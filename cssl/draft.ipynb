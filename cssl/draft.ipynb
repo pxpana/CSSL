{
 "cells": [
  {
   "cell_type": "code",
   "execution_count": 6,
   "id": "4018cb75",
   "metadata": {},
   "outputs": [],
   "source": [
    "from copy import deepcopy\n",
    "import torch\n",
    "import pytorch_lightning as pl\n",
    "\n",
    "class BaseSSL(pl.LightningModule):\n",
    "    def __init__(self, backbone, config=None):\n",
    "        super().__init__()\n",
    "        self.backbone = backbone\n",
    "        self.projection_head = None\n",
    "        self.config = config\n",
    "\n",
    "    def forward(self, x):\n",
    "        features = self.backbone(x).flatten(start_dim=1)\n",
    "        z = self.projection_head(features)\n",
    "        return {\"features\": features, \"projection\": z}\n",
    "\n",
    "    def get_params(self):\n",
    "        # Your existing implementation\n",
    "        pass\n",
    "\n",
    "    def configure_optimizers(self):\n",
    "        # Your existing implementation\n",
    "        pass\n",
    "\n",
    "class SimCLRSSL(BaseSSL):\n",
    "    def __init__(self, backbone, config):\n",
    "        super().__init__(backbone, config)  # Calls BaseSSL.__init__()\n",
    "        self.criterion = None\n",
    "\n",
    "    def training_step(self, batch, batch_idx):\n",
    "        x = batch[0]  # Augmented views (x1, x2)\n",
    "        z = self(x)[\"projection\"]  # Calls BaseSSL.forward()\n",
    "        loss = self.criterion(z)\n",
    "        return loss\n",
    "    \n",
    "class MoCoSSL:\n",
    "    def __init__(self, backbone, config):\n",
    "        super().__init__(backbone, config)  # Calls BaseSSL.__init__()\n",
    "        self.momentum_encoder = deepcopy(backbone)\n",
    "        self.criterion = None\n",
    "\n",
    "    def training_step(self, batch, batch_idx):\n",
    "        x = batch[0]\n",
    "        z_online = self(x)[\"projection\"]  # Online network\n",
    "        with torch.no_grad():\n",
    "            z_momentum = self.momentum_encoder(x)  # Momentum network\n",
    "        loss = self.criterion(z_online, z_momentum)\n",
    "        return loss\n",
    "\n",
    "    def on_train_batch_end(self):\n",
    "        self._update_momentum_encoder()\n",
    "\n",
    "    def _update_momentum_encoder(self):\n",
    "        tau = self.final_tau - (self.final_tau - self.base_tau) * (\n",
    "            (1 + math.cos(math.pi * self.global_step / self.trainer.max_steps)) / 2\n",
    "        )\n",
    "        for p_online, p_momentum in zip(\n",
    "            self.backbone.parameters(),\n",
    "            self.momentum_encoder.parameters()\n",
    "        ):\n",
    "            p_momentum.data = tau * p_momentum.data + (1 - tau) * p_online.data\n",
    "\n",
    "class EWC:\n",
    "    def __init__(self, ewc_lambda=0.4, mode=\"separate\", decay_factor=None):\n",
    "        self.ewc_lambda = ewc_lambda\n",
    "        self.mode = mode\n",
    "        self.decay_factor = decay_factor\n",
    "        self.saved_params = {}  # Stores {exp_id: {param_name: tensor}}\n",
    "        self.importances = {}   # Fisher information matrices\n",
    "\n",
    "    def before_backward(self, strategy, **kwargs):\n",
    "        if not self.saved_params:  # Skip if no previous tasks\n",
    "            return\n",
    "            \n",
    "        penalty = 0\n",
    "        for exp_id, params in self.saved_params.items():\n",
    "            for name, param in strategy.model.named_parameters():\n",
    "                if name in params:\n",
    "                    penalty += (self.importances[exp_id][name] * \n",
    "                              (param - params[name]).pow(2)).sum()\n",
    "        \n",
    "        strategy.loss += self.ewc_lambda * penalty\n",
    "\n",
    "    def after_training_exp(self, strategy, **kwargs):\n",
    "        self._compute_fisher_matrix(strategy)\n",
    "        self._save_params(strategy.model)\n",
    "\n",
    "    def _compute_fisher_matrix(self, strategy):\n",
    "        # Your existing EWC Fisher computation logic\n",
    "        pass\n",
    "\n",
    "    def _save_params(self, model):\n",
    "        # Your existing parameter saving logic\n",
    "        pass"
   ]
  },
  {
   "cell_type": "code",
   "execution_count": null,
   "id": "45a74f27",
   "metadata": {},
   "outputs": [],
   "source": [
    "simclr = SimCLRSSL(\n",
    "    backbone=\"resnet18\", \n",
    "    config={\"batch_size\": 32}\n",
    ")\n",
    "\n"
   ]
  },
  {
   "cell_type": "code",
   "execution_count": 10,
   "id": "8da6842d",
   "metadata": {},
   "outputs": [],
   "source": [
    "class EWCModel(SimCLRSSL, EWC):\n",
    "    def __init__(self, backbone, config):\n",
    "        super().__init__(backbone, config)\n",
    "        EWC.__init__(self, config[\"ewc_lambda\"], config[\"ewc_mode\"])\n",
    "\n",
    "model = EWCModel(\n",
    "    backbone=\"resnet18\", \n",
    "    config={\n",
    "        \"batch_size\": 32,\n",
    "        \"ewc_lambda\": 0.4,\n",
    "        \"ewc_mode\": \"separate\"\n",
    "    }\n",
    ")"
   ]
  },
  {
   "cell_type": "code",
   "execution_count": 12,
   "id": "e6d55953",
   "metadata": {},
   "outputs": [
    {
     "data": {
      "text/plain": [
       "<bound method EWC.before_backward of EWCModel()>"
      ]
     },
     "execution_count": 12,
     "metadata": {},
     "output_type": "execute_result"
    }
   ],
   "source": [
    "model.before_backward"
   ]
  }
 ],
 "metadata": {
  "kernelspec": {
   "display_name": ".venv",
   "language": "python",
   "name": "python3"
  },
  "language_info": {
   "codemirror_mode": {
    "name": "ipython",
    "version": 3
   },
   "file_extension": ".py",
   "mimetype": "text/x-python",
   "name": "python",
   "nbconvert_exporter": "python",
   "pygments_lexer": "ipython3",
   "version": "3.12.3"
  }
 },
 "nbformat": 4,
 "nbformat_minor": 5
}
