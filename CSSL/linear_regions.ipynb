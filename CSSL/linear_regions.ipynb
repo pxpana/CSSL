{
 "cells": [
  {
   "cell_type": "code",
   "execution_count": null,
   "metadata": {},
   "outputs": [
    {
     "name": "stderr",
     "output_type": "stream",
     "text": [
      "/home/medici/Documents/Projects/CSSL/CSSL/.venv/lib/python3.12/site-packages/tqdm/auto.py:21: TqdmWarning: IProgress not found. Please update jupyter and ipywidgets. See https://ipywidgets.readthedocs.io/en/stable/user_install.html\n",
      "  from .autonotebook import tqdm as notebook_tqdm\n",
      "/home/medici/Documents/Projects/CSSL/CSSL/.venv/lib/python3.12/site-packages/torchvision/transforms/v2/_deprecated.py:42: UserWarning: The transform `ToTensor()` is deprecated and will be removed in a future release. Instead, please use `v2.Compose([v2.ToImage(), v2.ToDtype(torch.float32, scale=True)])`.Output is equivalent up to float precision.\n",
      "  warnings.warn(\n",
      "Scenerio:   0%|          | 0/1 [00:00<?, ?it/s]Seed set to 5\n",
      "Using 16bit Automatic Mixed Precision (AMP)\n",
      "GPU available: True (cuda), used: True\n",
      "TPU available: False, using: 0 TPU cores\n",
      "HPU available: False, using: 0 HPUs\n",
      "\u001b[34m\u001b[1mwandb\u001b[0m: Using wandb-core as the SDK backend.  Please refer to https://wandb.me/wandb-core for more information.\n"
     ]
    },
    {
     "name": "stdout",
     "output_type": "stream",
     "text": [
      "TASK ID 0\n"
     ]
    },
    {
     "name": "stderr",
     "output_type": "stream",
     "text": [
      "\u001b[34m\u001b[1mwandb\u001b[0m: Currently logged in as: \u001b[33mmxdici\u001b[0m (\u001b[33mmxdici-jozi\u001b[0m) to \u001b[32mhttps://api.wandb.ai\u001b[0m. Use \u001b[1m`wandb login --relogin`\u001b[0m to force relogin\n"
     ]
    },
    {
     "data": {
      "text/html": [],
      "text/plain": [
       "<IPython.core.display.HTML object>"
      ]
     },
     "metadata": {},
     "output_type": "display_data"
    },
    {
     "data": {
      "text/html": [
       "Tracking run with wandb version 0.19.9"
      ],
      "text/plain": [
       "<IPython.core.display.HTML object>"
      ]
     },
     "metadata": {},
     "output_type": "display_data"
    },
    {
     "data": {
      "text/html": [
       "Run data is saved locally in <code>./wandb/run-20250526_171233-f5u8ivvj</code>"
      ],
      "text/plain": [
       "<IPython.core.display.HTML object>"
      ]
     },
     "metadata": {},
     "output_type": "display_data"
    },
    {
     "data": {
      "text/html": [
       "Syncing run <strong><a href='https://wandb.ai/mxdici-jozi/CSSL/runs/f5u8ivvj' target=\"_blank\">SimCLR_mnist_pretrain_scenario_5_task_1/5</a></strong> to <a href='https://wandb.ai/mxdici-jozi/CSSL' target=\"_blank\">Weights & Biases</a> (<a href='https://wandb.me/developer-guide' target=\"_blank\">docs</a>)<br>"
      ],
      "text/plain": [
       "<IPython.core.display.HTML object>"
      ]
     },
     "metadata": {},
     "output_type": "display_data"
    },
    {
     "data": {
      "text/html": [
       " View project at <a href='https://wandb.ai/mxdici-jozi/CSSL' target=\"_blank\">https://wandb.ai/mxdici-jozi/CSSL</a>"
      ],
      "text/plain": [
       "<IPython.core.display.HTML object>"
      ]
     },
     "metadata": {},
     "output_type": "display_data"
    },
    {
     "data": {
      "text/html": [
       " View run at <a href='https://wandb.ai/mxdici-jozi/CSSL/runs/f5u8ivvj' target=\"_blank\">https://wandb.ai/mxdici-jozi/CSSL/runs/f5u8ivvj</a>"
      ],
      "text/plain": [
       "<IPython.core.display.HTML object>"
      ]
     },
     "metadata": {},
     "output_type": "display_data"
    },
    {
     "name": "stderr",
     "output_type": "stream",
     "text": [
      "LOCAL_RANK: 0 - CUDA_VISIBLE_DEVICES: [0]\n",
      "Loading `train_dataloader` to estimate number of stepping batches.\n",
      "\n",
      "  | Name            | Type                 | Params | Mode \n",
      "-----------------------------------------------------------------\n",
      "0 | backbone        | Depth3Width32Net     | 27.2 K | train\n",
      "1 | projection_head | SimCLRProjectionHead | 4.3 K  | train\n",
      "2 | criterion       | NTXentLoss           | 0      | train\n",
      "-----------------------------------------------------------------\n",
      "31.5 K    Trainable params\n",
      "0         Non-trainable params\n",
      "31.5 K    Total params\n",
      "0.126     Total estimated model params size (MB)\n",
      "15        Modules in train mode\n",
      "0         Modules in eval mode\n"
     ]
    },
    {
     "name": "stdout",
     "output_type": "stream",
     "text": [
      "Epoch 20:   0%|          | 0/50 [00:00<?, ?it/s, v_num=ivvj, train_loss_step=2.820, representation_std_step=0.171, regions=9.360, train_loss_epoch=4.660, representation_std_epoch=0.169]         "
     ]
    }
   ],
   "source": [
    "import argparse\n",
    "import yaml\n",
    "import torch\n",
    "import torch.nn as nn\n",
    "import wandb\n",
    "from tqdm import tqdm\n",
    "import pytorch_lightning as pl\n",
    "from pytorch_lightning import seed_everything\n",
    "from torchvision.models import resnet18\n",
    "from utils import DataManager, get_model, get_pretrain_transform, get_classifier, get_callbacks_logger, get_checkpoint, prepare_transforms\n",
    "from continuum.metrics.logger import Logger as LOGGER\n",
    "from lab.models.simclr import  SimCLRLab\n",
    "\n",
    "\n",
    "class Depth3Width32Net(nn.Module):\n",
    "    def __init__(self, input_dim=784, output_dim=10):\n",
    "        super().__init__()\n",
    "        self.fc1 = nn.Linear(input_dim, 32)  # Layer 1\n",
    "        self.fc2 = nn.Linear(32, 32)         # Layer 2\n",
    "        self.fc3 = nn.Linear(32, output_dim)  # Layer 3 (logits)\n",
    "        self.relu = nn.ReLU()\n",
    "\n",
    "    def forward(self, x):\n",
    "        x = x.view(x.shape[0], -1)  # Flatten input\n",
    "        out = self.fc1(x)\n",
    "        out = self.relu(out)\n",
    "\n",
    "        out = self.fc2(out)\n",
    "        out = self.relu(out)\n",
    "\n",
    "        out = self.fc3(out)\n",
    "        return out\n",
    "\n",
    "def main(args):\n",
    "    seeds = args.seeds\n",
    "    class_increment = int(args.num_classes / args.num_tasks)\n",
    "\n",
    "    for scenario_id in tqdm(seeds, desc=\"Scenerio\"):\n",
    "\n",
    "        seed_everything(scenario_id)\n",
    "        torch.set_float32_matmul_precision(args.set_float32_matmul_precision)\n",
    "\n",
    "        backbone = Depth3Width32Net(input_dim=args.input_dim, output_dim=args.feature_dim)\n",
    "        model = SimCLRLab(backbone, args)\n",
    "\n",
    "        #pretrain_transform = get_pretrain_transform(args)\n",
    "        transform, val_transform = prepare_transforms(dataset=args.dataset)\n",
    "        def pretrain_transform(x):\n",
    "            view1 = transform(x)\n",
    "            view2 = transform(x)\n",
    "            val = val_transform(x)\n",
    "            return (view1, view2, val)\n",
    "        logger = LOGGER()\n",
    "\n",
    "        data_manager = DataManager(\n",
    "            args=args,\n",
    "        )\n",
    "\n",
    "        train_pretrain_scenario, train_classifier_scenario, test_classifier_scenario = data_manager.get_scenerio(scenario_id)\n",
    "\n",
    "        for task_id, train_pretrain_taskset in tqdm(enumerate(train_pretrain_scenario), desc=\"Training tasks\"):\n",
    "            print(\"TASK ID\", task_id)\n",
    "            train_classifier_taskset = train_classifier_scenario[:task_id+1]\n",
    "            test_classifier_taskset = test_classifier_scenario[:task_id+1]\n",
    "            train_pretrain_loader, train_classifier_loader, test_classifier_loader = data_manager.get_dataloader(\n",
    "                train_pretrain_taskset, \n",
    "                train_classifier_taskset, \n",
    "                test_classifier_taskset, \n",
    "                pretrain_transform,\n",
    "                args\n",
    "            )\n",
    "\n",
    "            _, pretrain_wandb_logger = get_callbacks_logger(args, training_type=\"pretrain\", task_id=task_id, scenario_id=scenario_id)\n",
    "\n",
    "            if task_id>0:\n",
    "                model = SimCLRLab(model.backbone, args)\n",
    "\n",
    "            '''\n",
    "            Train the model\n",
    "            '''\n",
    "            trainer = pl.Trainer(\n",
    "                max_epochs=args.train_epochs, \n",
    "                accelerator=args.accelerator,\n",
    "                devices=args.gpu_devices,\n",
    "                accumulate_grad_batches=args.train_accumulate_grad_batches,\n",
    "                #callbacks=pretrain_callbacks,\n",
    "                logger=pretrain_wandb_logger,\n",
    "                enable_checkpointing=False,\n",
    "                strategy=args.strategy,\n",
    "                precision=args.precision,\n",
    "                sync_batchnorm=args.sync_batchnorm,\n",
    "            )\n",
    "            trainer.fit(model, train_pretrain_loader)\n",
    "\n",
    "            # load the best model\n",
    "            #model = get_checkpoint(trainer, backbone, args)\n",
    "\n",
    "            '''\n",
    "            Evaluate the model\n",
    "            '''\n",
    "            _, classifier_wandb_logger = get_callbacks_logger(args, training_type=\"classifier\", task_id=task_id, scenario_id=scenario_id)\n",
    "\n",
    "            classifier = get_classifier(\n",
    "                model.backbone, \n",
    "                num_classes=class_increment*(task_id+1),\n",
    "                logger=logger,\n",
    "                args=args\n",
    "            )\n",
    "\n",
    "            trainer = pl.Trainer(\n",
    "                max_epochs=args.test_epochs, \n",
    "                accelerator=args.accelerator,\n",
    "                devices=args.gpu_devices,\n",
    "                enable_checkpointing=False,\n",
    "                logger=classifier_wandb_logger,\n",
    "                strategy=args.strategy,\n",
    "                precision=args.precision,\n",
    "                sync_batchnorm=args.sync_batchnorm,\n",
    "            )\n",
    "            trainer.fit(classifier, train_classifier_loader, test_classifier_loader)\n",
    "\n",
    "            wandb.finish()\n",
    "\n",
    "\n",
    "\n",
    "\n",
    "from types import SimpleNamespace\n",
    "\n",
    "config_name = \"simclr_mnist\"\n",
    "with open(f\"lab/config/{config_name}.yaml\", 'r') as file:\n",
    "    config_dict = yaml.safe_load(file)\n",
    "\n",
    "# Convert dict to an object\n",
    "config = SimpleNamespace(**config_dict)\n",
    "main(config)"
   ]
  },
  {
   "cell_type": "code",
   "execution_count": 1,
   "metadata": {},
   "outputs": [
    {
     "name": "stderr",
     "output_type": "stream",
     "text": [
      "/home/medici/Documents/Projects/CSSL/CSSL/.venv/lib/python3.12/site-packages/tqdm/auto.py:21: TqdmWarning: IProgress not found. Please update jupyter and ipywidgets. See https://ipywidgets.readthedocs.io/en/stable/user_install.html\n",
      "  from .autonotebook import tqdm as notebook_tqdm\n",
      "/home/medici/Documents/Projects/CSSL/CSSL/.venv/lib/python3.12/site-packages/torchvision/transforms/v2/_deprecated.py:42: UserWarning: The transform `ToTensor()` is deprecated and will be removed in a future release. Instead, please use `v2.Compose([v2.ToImage(), v2.ToDtype(torch.float32, scale=True)])`.Output is equivalent up to float precision.\n",
      "  warnings.warn(\n",
      "Scenerio:   0%|          | 0/1 [00:00<?, ?it/s]Seed set to 5\n",
      "Using 16bit Automatic Mixed Precision (AMP)\n",
      "GPU available: True (cuda), used: True\n",
      "TPU available: False, using: 0 TPU cores\n",
      "HPU available: False, using: 0 HPUs\n",
      "\u001b[34m\u001b[1mwandb\u001b[0m: Using wandb-core as the SDK backend.  Please refer to https://wandb.me/wandb-core for more information.\n"
     ]
    },
    {
     "name": "stdout",
     "output_type": "stream",
     "text": [
      "TASK ID 0\n"
     ]
    },
    {
     "name": "stderr",
     "output_type": "stream",
     "text": [
      "\u001b[34m\u001b[1mwandb\u001b[0m: Currently logged in as: \u001b[33mmxdici\u001b[0m (\u001b[33mmxdici-jozi\u001b[0m) to \u001b[32mhttps://api.wandb.ai\u001b[0m. Use \u001b[1m`wandb login --relogin`\u001b[0m to force relogin\n"
     ]
    },
    {
     "data": {
      "text/html": [
       "creating run (0.2s)"
      ],
      "text/plain": [
       "<IPython.core.display.HTML object>"
      ]
     },
     "metadata": {},
     "output_type": "display_data"
    },
    {
     "data": {
      "text/html": [
       "Tracking run with wandb version 0.19.9"
      ],
      "text/plain": [
       "<IPython.core.display.HTML object>"
      ]
     },
     "metadata": {},
     "output_type": "display_data"
    },
    {
     "data": {
      "text/html": [
       "Run data is saved locally in <code>./wandb/run-20250526_065903-8owlp2xi</code>"
      ],
      "text/plain": [
       "<IPython.core.display.HTML object>"
      ]
     },
     "metadata": {},
     "output_type": "display_data"
    },
    {
     "data": {
      "text/html": [
       "Syncing run <strong><a href='https://wandb.ai/mxdici-jozi/CSSL/runs/8owlp2xi' target=\"_blank\">BYOL_mnist_pretrain_scenario_5_task_1/5</a></strong> to <a href='https://wandb.ai/mxdici-jozi/CSSL' target=\"_blank\">Weights & Biases</a> (<a href='https://wandb.me/developer-guide' target=\"_blank\">docs</a>)<br>"
      ],
      "text/plain": [
       "<IPython.core.display.HTML object>"
      ]
     },
     "metadata": {},
     "output_type": "display_data"
    },
    {
     "data": {
      "text/html": [
       " View project at <a href='https://wandb.ai/mxdici-jozi/CSSL' target=\"_blank\">https://wandb.ai/mxdici-jozi/CSSL</a>"
      ],
      "text/plain": [
       "<IPython.core.display.HTML object>"
      ]
     },
     "metadata": {},
     "output_type": "display_data"
    },
    {
     "data": {
      "text/html": [
       " View run at <a href='https://wandb.ai/mxdici-jozi/CSSL/runs/8owlp2xi' target=\"_blank\">https://wandb.ai/mxdici-jozi/CSSL/runs/8owlp2xi</a>"
      ],
      "text/plain": [
       "<IPython.core.display.HTML object>"
      ]
     },
     "metadata": {},
     "output_type": "display_data"
    },
    {
     "name": "stderr",
     "output_type": "stream",
     "text": [
      "LOCAL_RANK: 0 - CUDA_VISIBLE_DEVICES: [0]\n",
      "Loading `train_dataloader` to estimate number of stepping batches.\n",
      "\n",
      "  | Name                     | Type                     | Params | Mode \n",
      "------------------------------------------------------------------------------\n",
      "0 | backbone                 | Depth3Width32Net         | 27.2 K | train\n",
      "1 | projection_head          | BYOLProjectionHead       | 4.3 K  | train\n",
      "2 | prediction_head          | BYOLPredictionHead       | 4.3 K  | train\n",
      "3 | backbone_momentum        | Depth3Width32Net         | 27.2 K | train\n",
      "4 | projection_head_momentum | BYOLProjectionHead       | 4.3 K  | train\n",
      "5 | criterion                | NegativeCosineSimilarity | 0      | train\n",
      "------------------------------------------------------------------------------\n",
      "35.7 K    Trainable params\n",
      "31.5 K    Non-trainable params\n",
      "67.2 K    Total params\n",
      "0.269     Total estimated model params size (MB)\n",
      "29        Modules in train mode\n",
      "0         Modules in eval mode\n"
     ]
    },
    {
     "name": "stdout",
     "output_type": "stream",
     "text": [
      "Epoch 49: 100%|██████████| 50/50 [00:00<00:00, 58.60it/s, v_num=p2xi, train_loss_step=-3.56, representation_std_step=0.126, train_loss_epoch=-3.45, representation_std_epoch=0.125, regions=5.400]"
     ]
    },
    {
     "name": "stderr",
     "output_type": "stream",
     "text": [
      "`Trainer.fit` stopped: `max_epochs=50` reached.\n"
     ]
    },
    {
     "name": "stdout",
     "output_type": "stream",
     "text": [
      "Epoch 49: 100%|██████████| 50/50 [00:03<00:00, 12.94it/s, v_num=p2xi, train_loss_step=-3.56, representation_std_step=0.126, train_loss_epoch=-3.45, representation_std_epoch=0.125, regions=5.400]"
     ]
    },
    {
     "name": "stderr",
     "output_type": "stream",
     "text": [
      "Using 16bit Automatic Mixed Precision (AMP)\n",
      "GPU available: True (cuda), used: True\n",
      "TPU available: False, using: 0 TPU cores\n",
      "HPU available: False, using: 0 HPUs\n",
      "/home/medici/Documents/Projects/CSSL/CSSL/.venv/lib/python3.12/site-packages/pytorch_lightning/loggers/wandb.py:397: There is a wandb run already in progress and newly created instances of `WandbLogger` will reuse this run. If this is not desired, call `wandb.finish()` before instantiating `WandbLogger`.\n",
      "LOCAL_RANK: 0 - CUDA_VISIBLE_DEVICES: [0]\n",
      "Loading `train_dataloader` to estimate number of stepping batches.\n"
     ]
    },
    {
     "name": "stdout",
     "output_type": "stream",
     "text": [
      "\n"
     ]
    },
    {
     "name": "stderr",
     "output_type": "stream",
     "text": [
      "\n",
      "  | Name                | Type             | Params | Mode \n",
      "-----------------------------------------------------------------\n",
      "0 | model               | Depth3Width32Net | 27.2 K | train\n",
      "1 | classification_head | Linear           | 660    | train\n",
      "2 | criterion           | CrossEntropyLoss | 0      | train\n",
      "-----------------------------------------------------------------\n",
      "27.9 K    Trainable params\n",
      "0         Non-trainable params\n",
      "27.9 K    Total params\n",
      "0.112     Total estimated model params size (MB)\n",
      "7         Modules in train mode\n",
      "0         Modules in eval mode\n"
     ]
    },
    {
     "name": "stdout",
     "output_type": "stream",
     "text": [
      "Epoch 0:  22%|██▏       | 11/50 [00:00<00:00, 234.34it/s, v_num=p2xi, train_loss=10.60]"
     ]
    },
    {
     "name": "stderr",
     "output_type": "stream",
     "text": [
      "/home/medici/Documents/Projects/CSSL/CSSL/.venv/lib/python3.12/site-packages/torch/optim/lr_scheduler.py:189: UserWarning: Detected call of `lr_scheduler.step()` before `optimizer.step()`. In PyTorch 1.1.0 and later, you should call them in the opposite order: `optimizer.step()` before `lr_scheduler.step()`.  Failure to do this will result in PyTorch skipping the first value of the learning rate schedule. See more details at https://pytorch.org/docs/stable/optim.html#how-to-adjust-learning-rate\n",
      "  warnings.warn(\n"
     ]
    },
    {
     "name": "stdout",
     "output_type": "stream",
     "text": [
      "Epoch 24: 100%|██████████| 50/50 [00:00<00:00, 81.69it/s, v_num=p2xi, train_loss=0.108, val_loss=0.0626, Task Accuracy=0.984, Accuracy=0.984, AIC=0.984, BWT=0.000, FWT=0.000, PBWT=0.000, Remembering=1.000, Forgetting=0.000]  "
     ]
    },
    {
     "name": "stderr",
     "output_type": "stream",
     "text": [
      "`Trainer.fit` stopped: `max_epochs=25` reached.\n"
     ]
    },
    {
     "name": "stdout",
     "output_type": "stream",
     "text": [
      "Epoch 24: 100%|██████████| 50/50 [00:00<00:00, 81.58it/s, v_num=p2xi, train_loss=0.108, val_loss=0.0626, Task Accuracy=0.984, Accuracy=0.984, AIC=0.984, BWT=0.000, FWT=0.000, PBWT=0.000, Remembering=1.000, Forgetting=0.000]"
     ]
    },
    {
     "name": "stderr",
     "output_type": "stream",
     "text": [
      "\u001b[34m\u001b[1mwandb\u001b[0m: \u001b[32m\u001b[41mERROR\u001b[0m The nbformat package was not found. It is required to save notebook history.\n"
     ]
    },
    {
     "name": "stdout",
     "output_type": "stream",
     "text": [
      "\n"
     ]
    },
    {
     "data": {
      "text/html": [],
      "text/plain": [
       "<IPython.core.display.HTML object>"
      ]
     },
     "metadata": {},
     "output_type": "display_data"
    },
    {
     "data": {
      "text/html": [
       "<br>    <style><br>        .wandb-row {<br>            display: flex;<br>            flex-direction: row;<br>            flex-wrap: wrap;<br>            justify-content: flex-start;<br>            width: 100%;<br>        }<br>        .wandb-col {<br>            display: flex;<br>            flex-direction: column;<br>            flex-basis: 100%;<br>            flex: 1;<br>            padding: 10px;<br>        }<br>    </style><br><div class=\"wandb-row\"><div class=\"wandb-col\"><h3>Run history:</h3><br/><table class=\"wandb\"><tr><td>AIC</td><td>▁█▇▇▇▇███▇▇████████▇█████</td></tr><tr><td>Accuracy</td><td>▁█▇▇▇▇███▇▇████████▇█████</td></tr><tr><td>BWT</td><td>▁▁▁▁▁▁▁▁▁▁▁▁▁▁▁▁▁▁▁▁▁▁▁▁▁</td></tr><tr><td>FWT</td><td>▁▁▁▁▁▁▁▁▁▁▁▁▁▁▁▁▁▁▁▁▁▁▁▁▁</td></tr><tr><td>Forgetting</td><td>▁▁▁▁▁▁▁▁▁▁▁▁▁▁▁▁▁▁▁▁▁▁▁▁▁</td></tr><tr><td>PBWT</td><td>▁▁▁▁▁▁▁▁▁▁▁▁▁▁▁▁▁▁▁▁▁▁▁▁▁</td></tr><tr><td>Remembering</td><td>▁▁▁▁▁▁▁▁▁▁▁▁▁▁▁▁▁▁▁▁▁▁▁▁▁</td></tr><tr><td>Task Accuracy</td><td>▁█▇▇▇▇███▇▇████████▇█████</td></tr><tr><td>epoch</td><td>▁▁▁▂▂▃▃▃▃▃▄▄▄▄▅▅▅▅▆▆▆▇▇▇▇███▁▁▂▂▃▃▃▃▃▃▄▄</td></tr><tr><td>regions</td><td>▁▂▂▄▄▅▆██▆▆▆▄▅▄▄▄▄▄▄▄▃▂▃▃▃▃▃▃▃▃▂▃▃▃▃▃▃▃▃</td></tr><tr><td>representation_std_epoch</td><td>▃▄▃▅▆▇█▇▇▇▅▄▄▃▃▃▃▂▂▂▂▂▂▂▂▂▂▂▂▂▁▁▁▁▁▁▁▁▁▁</td></tr><tr><td>representation_std_step</td><td>▅▅▄██▇█▇▇▇▆▄▃▄▄▅▃▃▄▂▂▁▃▅▃▄▃▁▃▃▂▂▄▁▃▂▁▂▁▂</td></tr><tr><td>train_loss</td><td>▁▂▄▄▆▇▆▂▄▃▃▃▆▅▅▃▅▄▃▄▂█▃▃▃</td></tr><tr><td>train_loss_epoch</td><td>█▇▆▅▄▃▃▃▃▃▂▂▂▂▂▂▁▁▁▁▁▁▁▁▁▁▁▁▁▁▁▁▁▁▁▁▁▁▁▁</td></tr><tr><td>train_loss_step</td><td>██▆▅▄▄▄▆▃▃▄▃▅▂▃▂▃▂▃▃▂▄▃▁▂▂▃▂▂▂▂▂▂▂▁▂▁▁▅▁</td></tr><tr><td>trainer/global_step</td><td>▁▂▂▂▂▂▂▂▃▃▃▃▃▄▄▄▅▅▅▆▆▆▇▇▇███▁▁▁▁▂▂▂▃▃▃▄▄</td></tr><tr><td>val_loss</td><td>█▃▃▂▂▂▂▁▁▅▂▁▁▁▁▂▃▂▂▂▂▂▂▂▂</td></tr></table><br/></div><div class=\"wandb-col\"><h3>Run summary:</h3><br/><table class=\"wandb\"><tr><td>AIC</td><td>0.98441</td></tr><tr><td>Accuracy</td><td>0.98441</td></tr><tr><td>BWT</td><td>0</td></tr><tr><td>FWT</td><td>0</td></tr><tr><td>Forgetting</td><td>0</td></tr><tr><td>PBWT</td><td>0</td></tr><tr><td>Remembering</td><td>1</td></tr><tr><td>Task Accuracy</td><td>0.98441</td></tr><tr><td>epoch</td><td>24</td></tr><tr><td>regions</td><td>5.418</td></tr><tr><td>representation_std_epoch</td><td>0.12521</td></tr><tr><td>representation_std_step</td><td>0.12631</td></tr><tr><td>train_loss</td><td>0.10837</td></tr><tr><td>train_loss_epoch</td><td>-3.44958</td></tr><tr><td>train_loss_step</td><td>-3.56181</td></tr><tr><td>trainer/global_step</td><td>1249</td></tr><tr><td>val_loss</td><td>0.06255</td></tr></table><br/></div></div>"
      ],
      "text/plain": [
       "<IPython.core.display.HTML object>"
      ]
     },
     "metadata": {},
     "output_type": "display_data"
    },
    {
     "data": {
      "text/html": [
       " View run <strong style=\"color:#cdcd00\">BYOL_mnist_pretrain_scenario_5_task_1/5</strong> at: <a href='https://wandb.ai/mxdici-jozi/CSSL/runs/8owlp2xi' target=\"_blank\">https://wandb.ai/mxdici-jozi/CSSL/runs/8owlp2xi</a><br> View project at: <a href='https://wandb.ai/mxdici-jozi/CSSL' target=\"_blank\">https://wandb.ai/mxdici-jozi/CSSL</a><br>Synced 5 W&B file(s), 0 media file(s), 0 artifact file(s) and 0 other file(s)"
      ],
      "text/plain": [
       "<IPython.core.display.HTML object>"
      ]
     },
     "metadata": {},
     "output_type": "display_data"
    },
    {
     "data": {
      "text/html": [
       "Find logs at: <code>./wandb/run-20250526_065903-8owlp2xi/logs</code>"
      ],
      "text/plain": [
       "<IPython.core.display.HTML object>"
      ]
     },
     "metadata": {},
     "output_type": "display_data"
    },
    {
     "name": "stderr",
     "output_type": "stream",
     "text": [
      "Using 16bit Automatic Mixed Precision (AMP)\n",
      "GPU available: True (cuda), used: True\n",
      "TPU available: False, using: 0 TPU cores\n",
      "HPU available: False, using: 0 HPUs\n"
     ]
    },
    {
     "name": "stdout",
     "output_type": "stream",
     "text": [
      "TASK ID 1\n"
     ]
    },
    {
     "data": {
      "text/html": [],
      "text/plain": [
       "<IPython.core.display.HTML object>"
      ]
     },
     "metadata": {},
     "output_type": "display_data"
    },
    {
     "data": {
      "text/html": [
       "Tracking run with wandb version 0.19.9"
      ],
      "text/plain": [
       "<IPython.core.display.HTML object>"
      ]
     },
     "metadata": {},
     "output_type": "display_data"
    },
    {
     "data": {
      "text/html": [
       "Run data is saved locally in <code>./wandb/run-20250526_070236-unw5t1bz</code>"
      ],
      "text/plain": [
       "<IPython.core.display.HTML object>"
      ]
     },
     "metadata": {},
     "output_type": "display_data"
    },
    {
     "data": {
      "text/html": [
       "Syncing run <strong><a href='https://wandb.ai/mxdici-jozi/CSSL/runs/unw5t1bz' target=\"_blank\">BYOL_mnist_pretrain_scenario_5_task_2/5</a></strong> to <a href='https://wandb.ai/mxdici-jozi/CSSL' target=\"_blank\">Weights & Biases</a> (<a href='https://wandb.me/developer-guide' target=\"_blank\">docs</a>)<br>"
      ],
      "text/plain": [
       "<IPython.core.display.HTML object>"
      ]
     },
     "metadata": {},
     "output_type": "display_data"
    },
    {
     "data": {
      "text/html": [
       " View project at <a href='https://wandb.ai/mxdici-jozi/CSSL' target=\"_blank\">https://wandb.ai/mxdici-jozi/CSSL</a>"
      ],
      "text/plain": [
       "<IPython.core.display.HTML object>"
      ]
     },
     "metadata": {},
     "output_type": "display_data"
    },
    {
     "data": {
      "text/html": [
       " View run at <a href='https://wandb.ai/mxdici-jozi/CSSL/runs/unw5t1bz' target=\"_blank\">https://wandb.ai/mxdici-jozi/CSSL/runs/unw5t1bz</a>"
      ],
      "text/plain": [
       "<IPython.core.display.HTML object>"
      ]
     },
     "metadata": {},
     "output_type": "display_data"
    },
    {
     "name": "stderr",
     "output_type": "stream",
     "text": [
      "LOCAL_RANK: 0 - CUDA_VISIBLE_DEVICES: [0]\n",
      "Loading `train_dataloader` to estimate number of stepping batches.\n",
      "/home/medici/Documents/Projects/CSSL/CSSL/.venv/lib/python3.12/site-packages/pytorch_lightning/loops/fit_loop.py:310: The number of training batches (47) is smaller than the logging interval Trainer(log_every_n_steps=50). Set a lower value for log_every_n_steps if you want to see logs for the training epoch.\n",
      "\n",
      "  | Name                     | Type                     | Params | Mode \n",
      "------------------------------------------------------------------------------\n",
      "0 | backbone                 | Depth3Width32Net         | 27.2 K | eval \n",
      "1 | projection_head          | BYOLProjectionHead       | 4.3 K  | train\n",
      "2 | prediction_head          | BYOLPredictionHead       | 4.3 K  | train\n",
      "3 | backbone_momentum        | Depth3Width32Net         | 27.2 K | eval \n",
      "4 | projection_head_momentum | BYOLProjectionHead       | 4.3 K  | train\n",
      "5 | criterion                | NegativeCosineSimilarity | 0      | train\n",
      "------------------------------------------------------------------------------\n",
      "35.7 K    Trainable params\n",
      "31.5 K    Non-trainable params\n",
      "67.2 K    Total params\n",
      "0.269     Total estimated model params size (MB)\n",
      "19        Modules in train mode\n",
      "10        Modules in eval mode\n"
     ]
    },
    {
     "name": "stdout",
     "output_type": "stream",
     "text": [
      "Epoch 49: 100%|██████████| 47/47 [00:00<00:00, 55.89it/s, v_num=t1bz, train_loss_step=-3.20, representation_std_step=0.131, train_loss_epoch=-3.17, representation_std_epoch=0.132, regions=8.470]"
     ]
    },
    {
     "name": "stderr",
     "output_type": "stream",
     "text": [
      "`Trainer.fit` stopped: `max_epochs=50` reached.\n"
     ]
    },
    {
     "name": "stdout",
     "output_type": "stream",
     "text": [
      "Epoch 49: 100%|██████████| 47/47 [00:03<00:00, 12.62it/s, v_num=t1bz, train_loss_step=-3.20, representation_std_step=0.131, train_loss_epoch=-3.17, representation_std_epoch=0.132, regions=8.470]"
     ]
    },
    {
     "name": "stderr",
     "output_type": "stream",
     "text": [
      "Using 16bit Automatic Mixed Precision (AMP)\n",
      "GPU available: True (cuda), used: True\n",
      "TPU available: False, using: 0 TPU cores\n",
      "HPU available: False, using: 0 HPUs\n",
      "/home/medici/Documents/Projects/CSSL/CSSL/.venv/lib/python3.12/site-packages/pytorch_lightning/loggers/wandb.py:397: There is a wandb run already in progress and newly created instances of `WandbLogger` will reuse this run. If this is not desired, call `wandb.finish()` before instantiating `WandbLogger`.\n",
      "LOCAL_RANK: 0 - CUDA_VISIBLE_DEVICES: [0]\n",
      "Loading `train_dataloader` to estimate number of stepping batches.\n"
     ]
    },
    {
     "name": "stdout",
     "output_type": "stream",
     "text": [
      "\n"
     ]
    },
    {
     "name": "stderr",
     "output_type": "stream",
     "text": [
      "\n",
      "  | Name                | Type             | Params | Mode \n",
      "-----------------------------------------------------------------\n",
      "0 | model               | Depth3Width32Net | 27.2 K | train\n",
      "1 | classification_head | Linear           | 1.3 K  | train\n",
      "2 | criterion           | CrossEntropyLoss | 0      | train\n",
      "-----------------------------------------------------------------\n",
      "28.6 K    Trainable params\n",
      "0         Non-trainable params\n",
      "28.6 K    Total params\n",
      "0.114     Total estimated model params size (MB)\n",
      "7         Modules in train mode\n",
      "0         Modules in eval mode\n"
     ]
    },
    {
     "name": "stdout",
     "output_type": "stream",
     "text": [
      "Epoch 0:  12%|█▎        | 12/96 [00:00<00:00, 215.76it/s, v_num=t1bz, train_loss=148.0]"
     ]
    },
    {
     "name": "stderr",
     "output_type": "stream",
     "text": [
      "/home/medici/Documents/Projects/CSSL/CSSL/.venv/lib/python3.12/site-packages/torch/optim/lr_scheduler.py:189: UserWarning: Detected call of `lr_scheduler.step()` before `optimizer.step()`. In PyTorch 1.1.0 and later, you should call them in the opposite order: `optimizer.step()` before `lr_scheduler.step()`.  Failure to do this will result in PyTorch skipping the first value of the learning rate schedule. See more details at https://pytorch.org/docs/stable/optim.html#how-to-adjust-learning-rate\n",
      "  warnings.warn(\n"
     ]
    },
    {
     "name": "stdout",
     "output_type": "stream",
     "text": [
      "Epoch 24: 100%|██████████| 96/96 [00:00<00:00, 108.21it/s, v_num=t1bz, train_loss=1.200, val_loss=0.497, Task Accuracy=0.592, Accuracy=0.780, AIC=0.882, BWT=0.000, FWT=0.956, PBWT=0.000, Remembering=1.000, Forgetting=0.000] "
     ]
    },
    {
     "name": "stderr",
     "output_type": "stream",
     "text": [
      "`Trainer.fit` stopped: `max_epochs=25` reached.\n"
     ]
    },
    {
     "name": "stdout",
     "output_type": "stream",
     "text": [
      "Epoch 24: 100%|██████████| 96/96 [00:00<00:00, 108.13it/s, v_num=t1bz, train_loss=1.200, val_loss=0.497, Task Accuracy=0.592, Accuracy=0.780, AIC=0.882, BWT=0.000, FWT=0.956, PBWT=0.000, Remembering=1.000, Forgetting=0.000]"
     ]
    },
    {
     "name": "stderr",
     "output_type": "stream",
     "text": [
      "\u001b[34m\u001b[1mwandb\u001b[0m: \u001b[32m\u001b[41mERROR\u001b[0m The nbformat package was not found. It is required to save notebook history.\n"
     ]
    },
    {
     "name": "stdout",
     "output_type": "stream",
     "text": [
      "\n"
     ]
    },
    {
     "data": {
      "text/html": [],
      "text/plain": [
       "<IPython.core.display.HTML object>"
      ]
     },
     "metadata": {},
     "output_type": "display_data"
    },
    {
     "data": {
      "text/html": [
       "<br>    <style><br>        .wandb-row {<br>            display: flex;<br>            flex-direction: row;<br>            flex-wrap: wrap;<br>            justify-content: flex-start;<br>            width: 100%;<br>        }<br>        .wandb-col {<br>            display: flex;<br>            flex-direction: column;<br>            flex-basis: 100%;<br>            flex: 1;<br>            padding: 10px;<br>        }<br>    </style><br><div class=\"wandb-row\"><div class=\"wandb-col\"><h3>Run history:</h3><br/><table class=\"wandb\"><tr><td>AIC</td><td>▅▆▅▆▆▅▅▅▅▂▁▅▄▆▄▇█▆▆▅██▇█▇</td></tr><tr><td>Accuracy</td><td>▅▆▅▆▆▅▅▅▅▂▁▅▄▆▄▇█▆▆▅██▇█▇</td></tr><tr><td>BWT</td><td>▁▁▁▁▁▁▁▁▁▁▁▁▁▁▁▁▁▁▁▁▁▁▁▁▁</td></tr><tr><td>FWT</td><td>▄▅▇▇▅▇▆▆▅▁▅▅█▅█▆▇▅██▇▇███</td></tr><tr><td>Forgetting</td><td>▁▁▁▁▁▁▁▁▁▁▁▁▁▁▁▁▁▁▁▁▁▁▁▁▁</td></tr><tr><td>PBWT</td><td>▁▁▁▁▁▁▁▁▁▁▁▁▁▁▁▁▁▁▁▁▁▁▁▁▁</td></tr><tr><td>Remembering</td><td>▁▁▁▁▁▁▁▁▁▁▁▁▁▁▁▁▁▁▁▁▁▁▁▁▁</td></tr><tr><td>Task Accuracy</td><td>▇█▅▅▇▃▅▄▇▇▁▆▂█▁█▆█▄▃▇▇▆▆▆</td></tr><tr><td>epoch</td><td>▁▁▂▂▃▃▃▄▄▄▅▅▅▆▆▇▇▇▇▇▇██▁▁▂▂▂▂▂▃▃▃▃▃▃▄▄▄▄</td></tr><tr><td>regions</td><td>▁▅▆▇▆▆▄▄▃▄▄▅▄▄▆██▇▆▇▆▆▆▆▆██▇▇▇▇▇▇▇▇▇▇▇▇▇</td></tr><tr><td>representation_std_epoch</td><td>▄▄▄▂▁▄▅▄▄▄▃▃▃▃▃▃▄▅▄▆▆▇▇▇▇▇▇██▇▇▇▆▆▆▆▆▆▆▆</td></tr><tr><td>representation_std_step</td><td>▃▄▃▁▂▅▃▄▄▄▃▂▃▃▃▂▃▃▆▅▆▆▆██▇███▆▆▇▇▆▇▇▇▆▆▆</td></tr><tr><td>train_loss</td><td>█▃▃▆▂▄▂▄▅▅▃▄▃▃▃▂▃▂▁▃▂▂▂▃▁▁▁▁▁▁▁▁▁▁▁▁▁▁▁▁</td></tr><tr><td>train_loss_epoch</td><td>█▆▆▅▅▃▃▄▃▃▃▂▂▂▂▂▂▂▁▁▁▁▁▁▁▁▁▁▁▁▁▁▁▁▁▁▁▁▁▁</td></tr><tr><td>train_loss_step</td><td>▇█▆▇▆▅▃▆▅▃▃▄▃▂▂▂▃▃▁▂▁▃▂▁▃▂▂▁▂▃▄▁▂▂▁▁▁▂▁▁</td></tr><tr><td>trainer/global_step</td><td>▁▁▁▁▁▂▃▃▃▄▄▄▅▅▅▅▆▆▆▆▇█▁▁▂▂▂▃▃▄▅▅▅▆▆▇▇▇██</td></tr><tr><td>val_loss</td><td>▅▆▅▂▆▄▃▂▃▆█▃▂▃▃▁▁▁▁▁▁▁▁▁▁</td></tr></table><br/></div><div class=\"wandb-col\"><h3>Run summary:</h3><br/><table class=\"wandb\"><tr><td>AIC</td><td>0.88239</td></tr><tr><td>Accuracy</td><td>0.78036</td></tr><tr><td>BWT</td><td>0</td></tr><tr><td>FWT</td><td>0.9556</td></tr><tr><td>Forgetting</td><td>0</td></tr><tr><td>PBWT</td><td>0</td></tr><tr><td>Remembering</td><td>1</td></tr><tr><td>Task Accuracy</td><td>0.59176</td></tr><tr><td>epoch</td><td>24</td></tr><tr><td>regions</td><td>8.465</td></tr><tr><td>representation_std_epoch</td><td>0.13159</td></tr><tr><td>representation_std_step</td><td>0.1313</td></tr><tr><td>train_loss</td><td>1.2017</td></tr><tr><td>train_loss_epoch</td><td>-3.16649</td></tr><tr><td>train_loss_step</td><td>-3.20283</td></tr><tr><td>trainer/global_step</td><td>2399</td></tr><tr><td>val_loss</td><td>0.49693</td></tr></table><br/></div></div>"
      ],
      "text/plain": [
       "<IPython.core.display.HTML object>"
      ]
     },
     "metadata": {},
     "output_type": "display_data"
    },
    {
     "data": {
      "text/html": [
       " View run <strong style=\"color:#cdcd00\">BYOL_mnist_pretrain_scenario_5_task_2/5</strong> at: <a href='https://wandb.ai/mxdici-jozi/CSSL/runs/unw5t1bz' target=\"_blank\">https://wandb.ai/mxdici-jozi/CSSL/runs/unw5t1bz</a><br> View project at: <a href='https://wandb.ai/mxdici-jozi/CSSL' target=\"_blank\">https://wandb.ai/mxdici-jozi/CSSL</a><br>Synced 5 W&B file(s), 0 media file(s), 0 artifact file(s) and 0 other file(s)"
      ],
      "text/plain": [
       "<IPython.core.display.HTML object>"
      ]
     },
     "metadata": {},
     "output_type": "display_data"
    },
    {
     "data": {
      "text/html": [
       "Find logs at: <code>./wandb/run-20250526_070236-unw5t1bz/logs</code>"
      ],
      "text/plain": [
       "<IPython.core.display.HTML object>"
      ]
     },
     "metadata": {},
     "output_type": "display_data"
    },
    {
     "name": "stderr",
     "output_type": "stream",
     "text": [
      "Using 16bit Automatic Mixed Precision (AMP)\n",
      "GPU available: True (cuda), used: True\n",
      "TPU available: False, using: 0 TPU cores\n",
      "HPU available: False, using: 0 HPUs\n"
     ]
    },
    {
     "name": "stdout",
     "output_type": "stream",
     "text": [
      "TASK ID 2\n"
     ]
    },
    {
     "data": {
      "text/html": [
       "creating run (0.2s)"
      ],
      "text/plain": [
       "<IPython.core.display.HTML object>"
      ]
     },
     "metadata": {},
     "output_type": "display_data"
    },
    {
     "data": {
      "text/html": [
       "Tracking run with wandb version 0.19.9"
      ],
      "text/plain": [
       "<IPython.core.display.HTML object>"
      ]
     },
     "metadata": {},
     "output_type": "display_data"
    },
    {
     "data": {
      "text/html": [
       "Run data is saved locally in <code>./wandb/run-20250526_070618-txjbqvi9</code>"
      ],
      "text/plain": [
       "<IPython.core.display.HTML object>"
      ]
     },
     "metadata": {},
     "output_type": "display_data"
    },
    {
     "data": {
      "text/html": [
       "Syncing run <strong><a href='https://wandb.ai/mxdici-jozi/CSSL/runs/txjbqvi9' target=\"_blank\">BYOL_mnist_pretrain_scenario_5_task_3/5</a></strong> to <a href='https://wandb.ai/mxdici-jozi/CSSL' target=\"_blank\">Weights & Biases</a> (<a href='https://wandb.me/developer-guide' target=\"_blank\">docs</a>)<br>"
      ],
      "text/plain": [
       "<IPython.core.display.HTML object>"
      ]
     },
     "metadata": {},
     "output_type": "display_data"
    },
    {
     "data": {
      "text/html": [
       " View project at <a href='https://wandb.ai/mxdici-jozi/CSSL' target=\"_blank\">https://wandb.ai/mxdici-jozi/CSSL</a>"
      ],
      "text/plain": [
       "<IPython.core.display.HTML object>"
      ]
     },
     "metadata": {},
     "output_type": "display_data"
    },
    {
     "data": {
      "text/html": [
       " View run at <a href='https://wandb.ai/mxdici-jozi/CSSL/runs/txjbqvi9' target=\"_blank\">https://wandb.ai/mxdici-jozi/CSSL/runs/txjbqvi9</a>"
      ],
      "text/plain": [
       "<IPython.core.display.HTML object>"
      ]
     },
     "metadata": {},
     "output_type": "display_data"
    },
    {
     "name": "stderr",
     "output_type": "stream",
     "text": [
      "LOCAL_RANK: 0 - CUDA_VISIBLE_DEVICES: [0]\n",
      "Loading `train_dataloader` to estimate number of stepping batches.\n",
      "/home/medici/Documents/Projects/CSSL/CSSL/.venv/lib/python3.12/site-packages/pytorch_lightning/loops/fit_loop.py:310: The number of training batches (46) is smaller than the logging interval Trainer(log_every_n_steps=50). Set a lower value for log_every_n_steps if you want to see logs for the training epoch.\n",
      "\n",
      "  | Name                     | Type                     | Params | Mode \n",
      "------------------------------------------------------------------------------\n",
      "0 | backbone                 | Depth3Width32Net         | 27.2 K | eval \n",
      "1 | projection_head          | BYOLProjectionHead       | 4.3 K  | train\n",
      "2 | prediction_head          | BYOLPredictionHead       | 4.3 K  | train\n",
      "3 | backbone_momentum        | Depth3Width32Net         | 27.2 K | eval \n",
      "4 | projection_head_momentum | BYOLProjectionHead       | 4.3 K  | train\n",
      "5 | criterion                | NegativeCosineSimilarity | 0      | train\n",
      "------------------------------------------------------------------------------\n",
      "35.7 K    Trainable params\n",
      "31.5 K    Non-trainable params\n",
      "67.2 K    Total params\n",
      "0.269     Total estimated model params size (MB)\n",
      "19        Modules in train mode\n",
      "10        Modules in eval mode\n"
     ]
    },
    {
     "name": "stdout",
     "output_type": "stream",
     "text": [
      "Epoch 49: 100%|██████████| 46/46 [00:01<00:00, 42.36it/s, v_num=qvi9, train_loss_step=-2.95, representation_std_step=0.126, train_loss_epoch=-3.13, representation_std_epoch=0.124, regions=8.160]"
     ]
    },
    {
     "name": "stderr",
     "output_type": "stream",
     "text": [
      "`Trainer.fit` stopped: `max_epochs=50` reached.\n"
     ]
    },
    {
     "name": "stdout",
     "output_type": "stream",
     "text": [
      "Epoch 49: 100%|██████████| 46/46 [00:04<00:00, 11.05it/s, v_num=qvi9, train_loss_step=-2.95, representation_std_step=0.126, train_loss_epoch=-3.13, representation_std_epoch=0.124, regions=8.160]"
     ]
    },
    {
     "name": "stderr",
     "output_type": "stream",
     "text": [
      "Using 16bit Automatic Mixed Precision (AMP)\n",
      "GPU available: True (cuda), used: True\n",
      "TPU available: False, using: 0 TPU cores\n",
      "HPU available: False, using: 0 HPUs\n",
      "/home/medici/Documents/Projects/CSSL/CSSL/.venv/lib/python3.12/site-packages/pytorch_lightning/loggers/wandb.py:397: There is a wandb run already in progress and newly created instances of `WandbLogger` will reuse this run. If this is not desired, call `wandb.finish()` before instantiating `WandbLogger`.\n",
      "LOCAL_RANK: 0 - CUDA_VISIBLE_DEVICES: [0]\n",
      "Loading `train_dataloader` to estimate number of stepping batches.\n"
     ]
    },
    {
     "name": "stdout",
     "output_type": "stream",
     "text": [
      "\n"
     ]
    },
    {
     "name": "stderr",
     "output_type": "stream",
     "text": [
      "\n",
      "  | Name                | Type             | Params | Mode \n",
      "-----------------------------------------------------------------\n",
      "0 | model               | Depth3Width32Net | 27.2 K | train\n",
      "1 | classification_head | Linear           | 2.0 K  | train\n",
      "2 | criterion           | CrossEntropyLoss | 0      | train\n",
      "-----------------------------------------------------------------\n",
      "29.2 K    Trainable params\n",
      "0         Non-trainable params\n",
      "29.2 K    Total params\n",
      "0.117     Total estimated model params size (MB)\n",
      "7         Modules in train mode\n",
      "0         Modules in eval mode\n"
     ]
    },
    {
     "name": "stdout",
     "output_type": "stream",
     "text": [
      "Epoch 0:  10%|▉         | 14/141 [00:00<00:00, 244.59it/s, v_num=qvi9, train_loss=513.0]"
     ]
    },
    {
     "name": "stderr",
     "output_type": "stream",
     "text": [
      "/home/medici/Documents/Projects/CSSL/CSSL/.venv/lib/python3.12/site-packages/torch/optim/lr_scheduler.py:189: UserWarning: Detected call of `lr_scheduler.step()` before `optimizer.step()`. In PyTorch 1.1.0 and later, you should call them in the opposite order: `optimizer.step()` before `lr_scheduler.step()`.  Failure to do this will result in PyTorch skipping the first value of the learning rate schedule. See more details at https://pytorch.org/docs/stable/optim.html#how-to-adjust-learning-rate\n",
      "  warnings.warn(\n"
     ]
    },
    {
     "name": "stdout",
     "output_type": "stream",
     "text": [
      "Epoch 24: 100%|██████████| 141/141 [00:01<00:00, 117.32it/s, v_num=qvi9, train_loss=3.250, val_loss=1.080, Task Accuracy=0.539, Accuracy=0.707, AIC=0.824, BWT=-0.0611, FWT=0.842, PBWT=0.000, Remembering=0.939, Forgetting=0.0916]    "
     ]
    },
    {
     "name": "stderr",
     "output_type": "stream",
     "text": [
      "`Trainer.fit` stopped: `max_epochs=25` reached.\n"
     ]
    },
    {
     "name": "stdout",
     "output_type": "stream",
     "text": [
      "Epoch 24: 100%|██████████| 141/141 [00:01<00:00, 117.25it/s, v_num=qvi9, train_loss=3.250, val_loss=1.080, Task Accuracy=0.539, Accuracy=0.707, AIC=0.824, BWT=-0.0611, FWT=0.842, PBWT=0.000, Remembering=0.939, Forgetting=0.0916]"
     ]
    },
    {
     "name": "stderr",
     "output_type": "stream",
     "text": [
      "\u001b[34m\u001b[1mwandb\u001b[0m: \u001b[32m\u001b[41mERROR\u001b[0m The nbformat package was not found. It is required to save notebook history.\n"
     ]
    },
    {
     "name": "stdout",
     "output_type": "stream",
     "text": [
      "\n"
     ]
    },
    {
     "data": {
      "text/html": [],
      "text/plain": [
       "<IPython.core.display.HTML object>"
      ]
     },
     "metadata": {},
     "output_type": "display_data"
    },
    {
     "data": {
      "text/html": [
       "<br>    <style><br>        .wandb-row {<br>            display: flex;<br>            flex-direction: row;<br>            flex-wrap: wrap;<br>            justify-content: flex-start;<br>            width: 100%;<br>        }<br>        .wandb-col {<br>            display: flex;<br>            flex-direction: column;<br>            flex-basis: 100%;<br>            flex: 1;<br>            padding: 10px;<br>        }<br>    </style><br><div class=\"wandb-row\"><div class=\"wandb-col\"><h3>Run history:</h3><br/><table class=\"wandb\"><tr><td>AIC</td><td>▃▅▄▆▆▆▄▁▃▄▅▁▃▆▅▆▆▇▇█▇████</td></tr><tr><td>Accuracy</td><td>▃▅▄▆▆▆▄▁▃▄▅▁▃▆▅▆▆▇▇█▇████</td></tr><tr><td>BWT</td><td>▅▇▅▆█▄▄▁▄▄▅▄▃█▄█▅▅▆▆▅▆▇▇▇</td></tr><tr><td>FWT</td><td>▃▅▆▅▇▆▅▁▆▃▅▃▆▆▇▆▆▇▇▇▇████</td></tr><tr><td>Forgetting</td><td>▄▂▄▃▁▅▅█▅▅▄▅▆▁▅▁▄▄▃▃▄▃▂▂▂</td></tr><tr><td>PBWT</td><td>▁▁▁▁▁▁▁▁▁▁▁▁▁▁▁▁▁▁▁▁▁▁▁▁▁</td></tr><tr><td>Remembering</td><td>▅▇▅▆█▄▄▁▄▄▅▄▃█▄█▅▅▆▆▅▆▇▇▇</td></tr><tr><td>Task Accuracy</td><td>▆▇▁▇▄▇▅█▁▇▆▁▁▆▃▆▆▇▇█▇▇▇▇▇</td></tr><tr><td>epoch</td><td>▁▂▂▃▃▄▄▅▅▅▆▇▇▇▇████▁▂▂▂▂▂▃▃▃▃▃▃▃▃▄▄▄▄▄▄▄</td></tr><tr><td>regions</td><td>▇▆▆███▄▃▃▅▃▃▂▁▂▅▄▅▅▅▅▄▄▇▇▇▇▇▆▇▇▇▇▇▇▇▇▇▇▆</td></tr><tr><td>representation_std_epoch</td><td>█▄▃▂▂▁▂▂▃▂▂▂▁▃▁▃▃▂▂▃▃▂▂▁▁▂▂▂▂▂▂▂▂▂▁▁▁▁▂▁</td></tr><tr><td>representation_std_step</td><td>█▇▃▃▂▆▄▅▆▇▇▄▁▇▆▆▅▇▆▆▅▆▄▄▅▅▄▄▅▃▃▅▄▄▄▄▄▃▅▄</td></tr><tr><td>train_loss</td><td>▆▆▄▆▃▅▇▄▄▄▅▅▄█▅▃▅▄▂▂▃▂▃▄▃▂▁▁▁▁▁▁▁▁▁▁▁▁▁▁</td></tr><tr><td>train_loss_epoch</td><td>█▅▄▃▂▂▂▂▂▂▂▂▂▂▁▂▂▂▁▂▂▁▁▁▁▁▁▁▁▁▁▁▁▁▁▁▁▁▁▁</td></tr><tr><td>train_loss_step</td><td>█▇▅▄▄▂▃▄▃▃▄▃▄▂▃▄▅▃▁▄▄▃▃▂▃▃▃▂▃▃▃▃▄▃▃▃▂▃▂▄</td></tr><tr><td>trainer/global_step</td><td>▁▁▁▂▂▂▂▃▃▃▃▃▄▄▄▄▄▅▅▅▂▂▃▃▃▃▄▄▆▆▆▆▆▇▇▇▇▇▇█</td></tr><tr><td>val_loss</td><td>▆▄█▃▄▃▃▄▇▃▃▅▄▂▂▂▁▁▁▁▁▁▁▁▁</td></tr></table><br/></div><div class=\"wandb-col\"><h3>Run summary:</h3><br/><table class=\"wandb\"><tr><td>AIC</td><td>0.82403</td></tr><tr><td>Accuracy</td><td>0.70732</td></tr><tr><td>BWT</td><td>-0.06109</td></tr><tr><td>FWT</td><td>0.8418</td></tr><tr><td>Forgetting</td><td>0.09164</td></tr><tr><td>PBWT</td><td>0</td></tr><tr><td>Remembering</td><td>0.93891</td></tr><tr><td>Task Accuracy</td><td>0.53943</td></tr><tr><td>epoch</td><td>24</td></tr><tr><td>regions</td><td>8.018</td></tr><tr><td>representation_std_epoch</td><td>0.12406</td></tr><tr><td>representation_std_step</td><td>0.12573</td></tr><tr><td>train_loss</td><td>4.18388</td></tr><tr><td>train_loss_epoch</td><td>-3.12974</td></tr><tr><td>train_loss_step</td><td>-2.94886</td></tr><tr><td>trainer/global_step</td><td>3524</td></tr><tr><td>val_loss</td><td>1.07665</td></tr></table><br/></div></div>"
      ],
      "text/plain": [
       "<IPython.core.display.HTML object>"
      ]
     },
     "metadata": {},
     "output_type": "display_data"
    },
    {
     "data": {
      "text/html": [
       " View run <strong style=\"color:#cdcd00\">BYOL_mnist_pretrain_scenario_5_task_3/5</strong> at: <a href='https://wandb.ai/mxdici-jozi/CSSL/runs/txjbqvi9' target=\"_blank\">https://wandb.ai/mxdici-jozi/CSSL/runs/txjbqvi9</a><br> View project at: <a href='https://wandb.ai/mxdici-jozi/CSSL' target=\"_blank\">https://wandb.ai/mxdici-jozi/CSSL</a><br>Synced 5 W&B file(s), 0 media file(s), 0 artifact file(s) and 0 other file(s)"
      ],
      "text/plain": [
       "<IPython.core.display.HTML object>"
      ]
     },
     "metadata": {},
     "output_type": "display_data"
    },
    {
     "data": {
      "text/html": [
       "Find logs at: <code>./wandb/run-20250526_070618-txjbqvi9/logs</code>"
      ],
      "text/plain": [
       "<IPython.core.display.HTML object>"
      ]
     },
     "metadata": {},
     "output_type": "display_data"
    },
    {
     "name": "stderr",
     "output_type": "stream",
     "text": [
      "Using 16bit Automatic Mixed Precision (AMP)\n",
      "GPU available: True (cuda), used: True\n",
      "TPU available: False, using: 0 TPU cores\n",
      "HPU available: False, using: 0 HPUs\n"
     ]
    },
    {
     "name": "stdout",
     "output_type": "stream",
     "text": [
      "TASK ID 3\n"
     ]
    },
    {
     "data": {
      "text/html": [],
      "text/plain": [
       "<IPython.core.display.HTML object>"
      ]
     },
     "metadata": {},
     "output_type": "display_data"
    },
    {
     "data": {
      "text/html": [
       "Tracking run with wandb version 0.19.9"
      ],
      "text/plain": [
       "<IPython.core.display.HTML object>"
      ]
     },
     "metadata": {},
     "output_type": "display_data"
    },
    {
     "data": {
      "text/html": [
       "Run data is saved locally in <code>./wandb/run-20250526_070956-ne13qcrl</code>"
      ],
      "text/plain": [
       "<IPython.core.display.HTML object>"
      ]
     },
     "metadata": {},
     "output_type": "display_data"
    },
    {
     "data": {
      "text/html": [
       "Syncing run <strong><a href='https://wandb.ai/mxdici-jozi/CSSL/runs/ne13qcrl' target=\"_blank\">BYOL_mnist_pretrain_scenario_5_task_4/5</a></strong> to <a href='https://wandb.ai/mxdici-jozi/CSSL' target=\"_blank\">Weights & Biases</a> (<a href='https://wandb.me/developer-guide' target=\"_blank\">docs</a>)<br>"
      ],
      "text/plain": [
       "<IPython.core.display.HTML object>"
      ]
     },
     "metadata": {},
     "output_type": "display_data"
    },
    {
     "data": {
      "text/html": [
       " View project at <a href='https://wandb.ai/mxdici-jozi/CSSL' target=\"_blank\">https://wandb.ai/mxdici-jozi/CSSL</a>"
      ],
      "text/plain": [
       "<IPython.core.display.HTML object>"
      ]
     },
     "metadata": {},
     "output_type": "display_data"
    },
    {
     "data": {
      "text/html": [
       " View run at <a href='https://wandb.ai/mxdici-jozi/CSSL/runs/ne13qcrl' target=\"_blank\">https://wandb.ai/mxdici-jozi/CSSL/runs/ne13qcrl</a>"
      ],
      "text/plain": [
       "<IPython.core.display.HTML object>"
      ]
     },
     "metadata": {},
     "output_type": "display_data"
    },
    {
     "name": "stderr",
     "output_type": "stream",
     "text": [
      "LOCAL_RANK: 0 - CUDA_VISIBLE_DEVICES: [0]\n",
      "Loading `train_dataloader` to estimate number of stepping batches.\n",
      "/home/medici/Documents/Projects/CSSL/CSSL/.venv/lib/python3.12/site-packages/pytorch_lightning/loops/fit_loop.py:310: The number of training batches (47) is smaller than the logging interval Trainer(log_every_n_steps=50). Set a lower value for log_every_n_steps if you want to see logs for the training epoch.\n",
      "\n",
      "  | Name                     | Type                     | Params | Mode \n",
      "------------------------------------------------------------------------------\n",
      "0 | backbone                 | Depth3Width32Net         | 27.2 K | eval \n",
      "1 | projection_head          | BYOLProjectionHead       | 4.3 K  | train\n",
      "2 | prediction_head          | BYOLPredictionHead       | 4.3 K  | train\n",
      "3 | backbone_momentum        | Depth3Width32Net         | 27.2 K | eval \n",
      "4 | projection_head_momentum | BYOLProjectionHead       | 4.3 K  | train\n",
      "5 | criterion                | NegativeCosineSimilarity | 0      | train\n",
      "------------------------------------------------------------------------------\n",
      "35.7 K    Trainable params\n",
      "31.5 K    Non-trainable params\n",
      "67.2 K    Total params\n",
      "0.269     Total estimated model params size (MB)\n",
      "19        Modules in train mode\n",
      "10        Modules in eval mode\n"
     ]
    },
    {
     "name": "stdout",
     "output_type": "stream",
     "text": [
      "Epoch 49: 100%|██████████| 47/47 [00:00<00:00, 55.64it/s, v_num=qcrl, train_loss_step=-3.18, representation_std_step=0.136, train_loss_epoch=-3.12, representation_std_epoch=0.135, regions=8.880]"
     ]
    },
    {
     "name": "stderr",
     "output_type": "stream",
     "text": [
      "`Trainer.fit` stopped: `max_epochs=50` reached.\n"
     ]
    },
    {
     "name": "stdout",
     "output_type": "stream",
     "text": [
      "Epoch 49: 100%|██████████| 47/47 [00:03<00:00, 12.52it/s, v_num=qcrl, train_loss_step=-3.18, representation_std_step=0.136, train_loss_epoch=-3.12, representation_std_epoch=0.135, regions=8.880]"
     ]
    },
    {
     "name": "stderr",
     "output_type": "stream",
     "text": [
      "Using 16bit Automatic Mixed Precision (AMP)\n",
      "GPU available: True (cuda), used: True\n",
      "TPU available: False, using: 0 TPU cores\n",
      "HPU available: False, using: 0 HPUs\n",
      "/home/medici/Documents/Projects/CSSL/CSSL/.venv/lib/python3.12/site-packages/pytorch_lightning/loggers/wandb.py:397: There is a wandb run already in progress and newly created instances of `WandbLogger` will reuse this run. If this is not desired, call `wandb.finish()` before instantiating `WandbLogger`.\n",
      "LOCAL_RANK: 0 - CUDA_VISIBLE_DEVICES: [0]\n",
      "Loading `train_dataloader` to estimate number of stepping batches.\n"
     ]
    },
    {
     "name": "stdout",
     "output_type": "stream",
     "text": [
      "\n"
     ]
    },
    {
     "name": "stderr",
     "output_type": "stream",
     "text": [
      "\n",
      "  | Name                | Type             | Params | Mode \n",
      "-----------------------------------------------------------------\n",
      "0 | model               | Depth3Width32Net | 27.2 K | train\n",
      "1 | classification_head | Linear           | 2.6 K  | train\n",
      "2 | criterion           | CrossEntropyLoss | 0      | train\n",
      "-----------------------------------------------------------------\n",
      "29.9 K    Trainable params\n",
      "0         Non-trainable params\n",
      "29.9 K    Total params\n",
      "0.119     Total estimated model params size (MB)\n",
      "7         Modules in train mode\n",
      "0         Modules in eval mode\n"
     ]
    },
    {
     "name": "stdout",
     "output_type": "stream",
     "text": [
      "Epoch 0:   6%|▌         | 11/188 [00:00<00:00, 197.32it/s, v_num=qcrl, train_loss=249.0]"
     ]
    },
    {
     "name": "stderr",
     "output_type": "stream",
     "text": [
      "/home/medici/Documents/Projects/CSSL/CSSL/.venv/lib/python3.12/site-packages/torch/optim/lr_scheduler.py:189: UserWarning: Detected call of `lr_scheduler.step()` before `optimizer.step()`. In PyTorch 1.1.0 and later, you should call them in the opposite order: `optimizer.step()` before `lr_scheduler.step()`.  Failure to do this will result in PyTorch skipping the first value of the learning rate schedule. See more details at https://pytorch.org/docs/stable/optim.html#how-to-adjust-learning-rate\n",
      "  warnings.warn(\n"
     ]
    },
    {
     "name": "stdout",
     "output_type": "stream",
     "text": [
      "Epoch 24: 100%|██████████| 188/188 [00:01<00:00, 105.01it/s, v_num=qcrl, train_loss=6.970, val_loss=1.900, Task Accuracy=0.547, Accuracy=0.597, AIC=0.767, BWT=-0.0667, FWT=0.727, PBWT=0.000, Remembering=0.933, Forgetting=0.0723] "
     ]
    },
    {
     "name": "stderr",
     "output_type": "stream",
     "text": [
      "`Trainer.fit` stopped: `max_epochs=25` reached.\n"
     ]
    },
    {
     "name": "stdout",
     "output_type": "stream",
     "text": [
      "Epoch 24: 100%|██████████| 188/188 [00:01<00:00, 104.96it/s, v_num=qcrl, train_loss=6.970, val_loss=1.900, Task Accuracy=0.547, Accuracy=0.597, AIC=0.767, BWT=-0.0667, FWT=0.727, PBWT=0.000, Remembering=0.933, Forgetting=0.0723]\n"
     ]
    },
    {
     "name": "stderr",
     "output_type": "stream",
     "text": [
      "\u001b[34m\u001b[1mwandb\u001b[0m: \u001b[32m\u001b[41mERROR\u001b[0m The nbformat package was not found. It is required to save notebook history.\n"
     ]
    },
    {
     "data": {
      "text/html": [],
      "text/plain": [
       "<IPython.core.display.HTML object>"
      ]
     },
     "metadata": {},
     "output_type": "display_data"
    },
    {
     "data": {
      "text/html": [
       "<br>    <style><br>        .wandb-row {<br>            display: flex;<br>            flex-direction: row;<br>            flex-wrap: wrap;<br>            justify-content: flex-start;<br>            width: 100%;<br>        }<br>        .wandb-col {<br>            display: flex;<br>            flex-direction: column;<br>            flex-basis: 100%;<br>            flex: 1;<br>            padding: 10px;<br>        }<br>    </style><br><div class=\"wandb-row\"><div class=\"wandb-col\"><h3>Run history:</h3><br/><table class=\"wandb\"><tr><td>AIC</td><td>▂▂▄▄▁▃▃▇▄▄▄▂▆▃▅▃▃▆▇▅▇████</td></tr><tr><td>Accuracy</td><td>▂▂▄▄▁▃▃▇▄▄▄▂▆▃▅▃▃▆▇▅▇████</td></tr><tr><td>BWT</td><td>▄▁▅▅▁▃▃▇▆█▅▄▇▃▅▆▃▆▇▅▆████</td></tr><tr><td>FWT</td><td>▂▁▅▃▁▁▁█▄▅▃▂▆▄▃▄▄▆▆▅▅████</td></tr><tr><td>Forgetting</td><td>▅█▄▄█▆▆▂▃▁▄▅▂▆▄▃▆▃▂▄▃▁▁▁▁</td></tr><tr><td>PBWT</td><td>▁▁▁▁▁▁▁▁▁▁▁▁▁▁▁▁▁▁▁▁▁▁▁▁▁</td></tr><tr><td>Remembering</td><td>▄▁▅▅▁▃▃▇▆█▅▄▇▃▅▆▃▆▇▅▆████</td></tr><tr><td>Task Accuracy</td><td>▁▃▁▅▁▆▅▃▂▁▅▁▄▁█▁▂▅▇▂█▅▅▆▆</td></tr><tr><td>epoch</td><td>▁▁▁▂▂▂▃▄▄▄▅▅▅▅▆▆▇▇▇██▁▁▁▁▂▂▂▂▃▃▃▃▃▄▄▄▄▄▄</td></tr><tr><td>regions</td><td>▅▂▄▂███▆▅▅▃▃▁▂▂▂▂▃▁▂▂▂▂▃▃▁▂▂▁▂▂▂▂▂▁▂▂▂▂▂</td></tr><tr><td>representation_std_epoch</td><td>▄▆█▇▄▃▂▁▁▃▂▃▃▂▃▃▃▃▄▅▄▄▅▅▅▅▆▆▅▅▅▅▅▅▅▆▅▅▅▅</td></tr><tr><td>representation_std_step</td><td>▅██▆▆▄▁▃▆▃▄▅▅▃▃▄▄▆▆▆▅▆▇▇▆▇▇▇▇▆▇▇▇▆▇▇▆▇▇▇</td></tr><tr><td>train_loss</td><td>█▆▅▄▅▄▆██▆▃▇▄▅▆▅▄▃▆▂▃▁▃▂▂▁▁▂▁▁▁▁▁▁▁▁▁▁▁▁</td></tr><tr><td>train_loss_epoch</td><td>█▅▄▄▃▂▁▁▁▁▁▁▁▁▁▁▁▁▁▁▁▁▁▁▁▁▁▁▁▁▁▁▁▁▁▁▁▁▁▁</td></tr><tr><td>train_loss_step</td><td>██▄▅▅▃▂▂▁▂▂▂▂▂▃▁▂▃▂▂▃▃▃▁▁▁▂▃▄▁▂▂▃▃▂▁▂▁▁▁</td></tr><tr><td>trainer/global_step</td><td>▁▁▁▁▂▂▂▃▃▃▃▃▃▃▄▄▄▄▄▄▁▁▁▁▂▃▃▄▅▅▅▆▆▆▆▆▆▆▇█</td></tr><tr><td>val_loss</td><td>▄▇▃▅█▄▆▂▃▄▄▅▂▃▂▂▂▁▁▁▁▁▁▁▁</td></tr></table><br/></div><div class=\"wandb-col\"><h3>Run summary:</h3><br/><table class=\"wandb\"><tr><td>AIC</td><td>0.76715</td></tr><tr><td>Accuracy</td><td>0.59652</td></tr><tr><td>BWT</td><td>-0.06667</td></tr><tr><td>FWT</td><td>0.7266</td></tr><tr><td>Forgetting</td><td>0.07225</td></tr><tr><td>PBWT</td><td>0</td></tr><tr><td>Remembering</td><td>0.93333</td></tr><tr><td>Task Accuracy</td><td>0.54672</td></tr><tr><td>epoch</td><td>24</td></tr><tr><td>regions</td><td>9.042</td></tr><tr><td>representation_std_epoch</td><td>0.1347</td></tr><tr><td>representation_std_step</td><td>0.13616</td></tr><tr><td>train_loss</td><td>6.97264</td></tr><tr><td>train_loss_epoch</td><td>-3.12353</td></tr><tr><td>train_loss_step</td><td>-3.17966</td></tr><tr><td>trainer/global_step</td><td>4699</td></tr><tr><td>val_loss</td><td>1.89788</td></tr></table><br/></div></div>"
      ],
      "text/plain": [
       "<IPython.core.display.HTML object>"
      ]
     },
     "metadata": {},
     "output_type": "display_data"
    },
    {
     "data": {
      "text/html": [
       " View run <strong style=\"color:#cdcd00\">BYOL_mnist_pretrain_scenario_5_task_4/5</strong> at: <a href='https://wandb.ai/mxdici-jozi/CSSL/runs/ne13qcrl' target=\"_blank\">https://wandb.ai/mxdici-jozi/CSSL/runs/ne13qcrl</a><br> View project at: <a href='https://wandb.ai/mxdici-jozi/CSSL' target=\"_blank\">https://wandb.ai/mxdici-jozi/CSSL</a><br>Synced 5 W&B file(s), 0 media file(s), 0 artifact file(s) and 0 other file(s)"
      ],
      "text/plain": [
       "<IPython.core.display.HTML object>"
      ]
     },
     "metadata": {},
     "output_type": "display_data"
    },
    {
     "data": {
      "text/html": [
       "Find logs at: <code>./wandb/run-20250526_070956-ne13qcrl/logs</code>"
      ],
      "text/plain": [
       "<IPython.core.display.HTML object>"
      ]
     },
     "metadata": {},
     "output_type": "display_data"
    },
    {
     "name": "stderr",
     "output_type": "stream",
     "text": [
      "Using 16bit Automatic Mixed Precision (AMP)\n",
      "GPU available: True (cuda), used: True\n",
      "TPU available: False, using: 0 TPU cores\n",
      "HPU available: False, using: 0 HPUs\n"
     ]
    },
    {
     "name": "stdout",
     "output_type": "stream",
     "text": [
      "TASK ID 4\n"
     ]
    },
    {
     "data": {
      "text/html": [
       "creating run (0.3s)"
      ],
      "text/plain": [
       "<IPython.core.display.HTML object>"
      ]
     },
     "metadata": {},
     "output_type": "display_data"
    },
    {
     "data": {
      "text/html": [
       "Tracking run with wandb version 0.19.9"
      ],
      "text/plain": [
       "<IPython.core.display.HTML object>"
      ]
     },
     "metadata": {},
     "output_type": "display_data"
    },
    {
     "data": {
      "text/html": [
       "Run data is saved locally in <code>./wandb/run-20250526_071352-nsliab8r</code>"
      ],
      "text/plain": [
       "<IPython.core.display.HTML object>"
      ]
     },
     "metadata": {},
     "output_type": "display_data"
    },
    {
     "data": {
      "text/html": [
       "Syncing run <strong><a href='https://wandb.ai/mxdici-jozi/CSSL/runs/nsliab8r' target=\"_blank\">BYOL_mnist_pretrain_scenario_5_task_5/5</a></strong> to <a href='https://wandb.ai/mxdici-jozi/CSSL' target=\"_blank\">Weights & Biases</a> (<a href='https://wandb.me/developer-guide' target=\"_blank\">docs</a>)<br>"
      ],
      "text/plain": [
       "<IPython.core.display.HTML object>"
      ]
     },
     "metadata": {},
     "output_type": "display_data"
    },
    {
     "data": {
      "text/html": [
       " View project at <a href='https://wandb.ai/mxdici-jozi/CSSL' target=\"_blank\">https://wandb.ai/mxdici-jozi/CSSL</a>"
      ],
      "text/plain": [
       "<IPython.core.display.HTML object>"
      ]
     },
     "metadata": {},
     "output_type": "display_data"
    },
    {
     "data": {
      "text/html": [
       " View run at <a href='https://wandb.ai/mxdici-jozi/CSSL/runs/nsliab8r' target=\"_blank\">https://wandb.ai/mxdici-jozi/CSSL/runs/nsliab8r</a>"
      ],
      "text/plain": [
       "<IPython.core.display.HTML object>"
      ]
     },
     "metadata": {},
     "output_type": "display_data"
    },
    {
     "name": "stderr",
     "output_type": "stream",
     "text": [
      "LOCAL_RANK: 0 - CUDA_VISIBLE_DEVICES: [0]\n",
      "Loading `train_dataloader` to estimate number of stepping batches.\n",
      "/home/medici/Documents/Projects/CSSL/CSSL/.venv/lib/python3.12/site-packages/pytorch_lightning/loops/fit_loop.py:310: The number of training batches (48) is smaller than the logging interval Trainer(log_every_n_steps=50). Set a lower value for log_every_n_steps if you want to see logs for the training epoch.\n",
      "\n",
      "  | Name                     | Type                     | Params | Mode \n",
      "------------------------------------------------------------------------------\n",
      "0 | backbone                 | Depth3Width32Net         | 27.2 K | eval \n",
      "1 | projection_head          | BYOLProjectionHead       | 4.3 K  | train\n",
      "2 | prediction_head          | BYOLPredictionHead       | 4.3 K  | train\n",
      "3 | backbone_momentum        | Depth3Width32Net         | 27.2 K | eval \n",
      "4 | projection_head_momentum | BYOLProjectionHead       | 4.3 K  | train\n",
      "5 | criterion                | NegativeCosineSimilarity | 0      | train\n",
      "------------------------------------------------------------------------------\n",
      "35.7 K    Trainable params\n",
      "31.5 K    Non-trainable params\n",
      "67.2 K    Total params\n",
      "0.269     Total estimated model params size (MB)\n",
      "19        Modules in train mode\n",
      "10        Modules in eval mode\n"
     ]
    },
    {
     "name": "stdout",
     "output_type": "stream",
     "text": [
      "Epoch 49: 100%|██████████| 48/48 [00:00<00:00, 53.91it/s, v_num=ab8r, train_loss_step=-3.35, representation_std_step=0.122, train_loss_epoch=-3.33, representation_std_epoch=0.121, regions=7.790]"
     ]
    },
    {
     "name": "stderr",
     "output_type": "stream",
     "text": [
      "`Trainer.fit` stopped: `max_epochs=50` reached.\n"
     ]
    },
    {
     "name": "stdout",
     "output_type": "stream",
     "text": [
      "Epoch 49: 100%|██████████| 48/48 [00:04<00:00, 11.63it/s, v_num=ab8r, train_loss_step=-3.35, representation_std_step=0.122, train_loss_epoch=-3.33, representation_std_epoch=0.121, regions=7.790]"
     ]
    },
    {
     "name": "stderr",
     "output_type": "stream",
     "text": [
      "Using 16bit Automatic Mixed Precision (AMP)\n",
      "GPU available: True (cuda), used: True\n",
      "TPU available: False, using: 0 TPU cores\n",
      "HPU available: False, using: 0 HPUs\n",
      "/home/medici/Documents/Projects/CSSL/CSSL/.venv/lib/python3.12/site-packages/pytorch_lightning/loggers/wandb.py:397: There is a wandb run already in progress and newly created instances of `WandbLogger` will reuse this run. If this is not desired, call `wandb.finish()` before instantiating `WandbLogger`.\n",
      "LOCAL_RANK: 0 - CUDA_VISIBLE_DEVICES: [0]\n",
      "Loading `train_dataloader` to estimate number of stepping batches.\n"
     ]
    },
    {
     "name": "stdout",
     "output_type": "stream",
     "text": [
      "\n"
     ]
    },
    {
     "name": "stderr",
     "output_type": "stream",
     "text": [
      "\n",
      "  | Name                | Type             | Params | Mode \n",
      "-----------------------------------------------------------------\n",
      "0 | model               | Depth3Width32Net | 27.2 K | train\n",
      "1 | classification_head | Linear           | 3.3 K  | train\n",
      "2 | criterion           | CrossEntropyLoss | 0      | train\n",
      "-----------------------------------------------------------------\n",
      "30.5 K    Trainable params\n",
      "0         Non-trainable params\n",
      "30.5 K    Total params\n",
      "0.122     Total estimated model params size (MB)\n",
      "7         Modules in train mode\n",
      "0         Modules in eval mode\n"
     ]
    },
    {
     "name": "stdout",
     "output_type": "stream",
     "text": [
      "Epoch 0:   2%|▏         | 5/235 [00:00<00:01, 122.67it/s, v_num=ab8r, train_loss=58.40]"
     ]
    },
    {
     "name": "stderr",
     "output_type": "stream",
     "text": [
      "/home/medici/Documents/Projects/CSSL/CSSL/.venv/lib/python3.12/site-packages/torch/optim/lr_scheduler.py:189: UserWarning: Detected call of `lr_scheduler.step()` before `optimizer.step()`. In PyTorch 1.1.0 and later, you should call them in the opposite order: `optimizer.step()` before `lr_scheduler.step()`.  Failure to do this will result in PyTorch skipping the first value of the learning rate schedule. See more details at https://pytorch.org/docs/stable/optim.html#how-to-adjust-learning-rate\n",
      "  warnings.warn(\n"
     ]
    },
    {
     "name": "stdout",
     "output_type": "stream",
     "text": [
      "Epoch 24: 100%|██████████| 235/235 [00:02<00:00, 105.23it/s, v_num=ab8r, train_loss=5.190, val_loss=3.110, Task Accuracy=0.501, Accuracy=0.509, AIC=0.716, BWT=-0.0992, FWT=0.638, PBWT=0.000, Remembering=0.901, Forgetting=0.192]"
     ]
    },
    {
     "name": "stderr",
     "output_type": "stream",
     "text": [
      "`Trainer.fit` stopped: `max_epochs=25` reached.\n"
     ]
    },
    {
     "name": "stdout",
     "output_type": "stream",
     "text": [
      "Epoch 24: 100%|██████████| 235/235 [00:02<00:00, 105.19it/s, v_num=ab8r, train_loss=5.190, val_loss=3.110, Task Accuracy=0.501, Accuracy=0.509, AIC=0.716, BWT=-0.0992, FWT=0.638, PBWT=0.000, Remembering=0.901, Forgetting=0.192]\n"
     ]
    },
    {
     "name": "stderr",
     "output_type": "stream",
     "text": [
      "\u001b[34m\u001b[1mwandb\u001b[0m: \u001b[32m\u001b[41mERROR\u001b[0m The nbformat package was not found. It is required to save notebook history.\n"
     ]
    },
    {
     "data": {
      "text/html": [],
      "text/plain": [
       "<IPython.core.display.HTML object>"
      ]
     },
     "metadata": {},
     "output_type": "display_data"
    },
    {
     "data": {
      "text/html": [
       "<br>    <style><br>        .wandb-row {<br>            display: flex;<br>            flex-direction: row;<br>            flex-wrap: wrap;<br>            justify-content: flex-start;<br>            width: 100%;<br>        }<br>        .wandb-col {<br>            display: flex;<br>            flex-direction: column;<br>            flex-basis: 100%;<br>            flex: 1;<br>            padding: 10px;<br>        }<br>    </style><br><div class=\"wandb-row\"><div class=\"wandb-col\"><h3>Run history:</h3><br/><table class=\"wandb\"><tr><td>AIC</td><td>▄▄▆▁▅▂▄▅▃▃▅▆▆▅▄▅▁▅▇▇█▇▇▇▇</td></tr><tr><td>Accuracy</td><td>▄▄▆▁▅▂▄▅▃▃▅▆▆▅▄▅▁▅▇▇█▇▇▇▇</td></tr><tr><td>BWT</td><td>▁▄▅▂▅▁▄▃▄▆▅▅▄▅▆▄▂▃███▇▇▇▇</td></tr><tr><td>FWT</td><td>▁▅▅▁▆▃▅▃▄▄▆▆▆▆▅▄▂▅▇▇█▇▇█▇</td></tr><tr><td>Forgetting</td><td>█▅▄▇▄█▅▆▅▃▄▄▅▄▃▅▇▆▁▁▁▂▂▂▂</td></tr><tr><td>PBWT</td><td>▁▁▁▁▁▁▁▁▁▁▁▁▁▁▁▁▁▁▁▁▁▁▁▁▁</td></tr><tr><td>Remembering</td><td>▁▄▅▂▅▁▄▃▄▆▅▅▄▅▆▄▂▃███▇▇▇▇</td></tr><tr><td>Task Accuracy</td><td>█▂▅▁▂▁▁█▁▁▁▄▅▃▂▄▂▅▄▅▆▅▆▅▅</td></tr><tr><td>epoch</td><td>▁▁▁▂▃▄▄▅▅▆▆▆▆▇▇█▁▁▁▁▂▂▂▂▂▃▃▃▃▃▃▃▃▄▄▄▄▄▄▄</td></tr><tr><td>regions</td><td>█▄█▇▆█▄▁▄▇▇▆▇█▇██▇▇█▇▇▇▆▆▆▇▇▆▆▆▇▇▇▆▇▇▇▇▇</td></tr><tr><td>representation_std_epoch</td><td>▆▆██▇▅▄▄▃▄▃▃▃▃▃▃▃▃▃▃▃▂▂▂▂▂▂▂▁▂▂▁▁▁▁▁▁▁▁▁</td></tr><tr><td>representation_std_step</td><td>▆▆█▆▅▄▃▄▃▃▃▃▃▃▂▂▃▃▃▃▃▂▂▂▂▂▂▂▂▂▂▂▂▂▂▁▂▁▁▂</td></tr><tr><td>train_loss</td><td>▅▆▅▄▆█▄▅▄▆▄▄▇▇▃▄▄▃▃▃▃▂▃▃▂▄▃▂▂▃▁▁▁▁▁▁▁▁▁▁</td></tr><tr><td>train_loss_epoch</td><td>█▅▄▄▃▂▂▂▂▂▂▂▂▂▁▂▁▁▁▁▁▁▁▁▁▁▁▁▁▁▁▁▁▁▁▁▁▁▁▁</td></tr><tr><td>train_loss_step</td><td>█▇▄▅▄▄▅▄▃▂▃▃▃▃▂▁▂▂▃▂▃▂▂▂▃▃▂▂▂▁▂▂▁▂▂▂▁▃▁▂</td></tr><tr><td>trainer/global_step</td><td>▁▁▁▁▁▂▂▂▂▃▃▃▃▄▄▁▁▁▁▂▂▂▂▂▂▃▃▄▄▄▅▅▅▆▆▆▆▆██</td></tr><tr><td>val_loss</td><td>█▄▄▇▃▇█▃▆▄▂▂▂▂▂▃▃▁▁▁▁▁▁▁▁</td></tr></table><br/></div><div class=\"wandb-col\"><h3>Run summary:</h3><br/><table class=\"wandb\"><tr><td>AIC</td><td>0.71556</td></tr><tr><td>Accuracy</td><td>0.5092</td></tr><tr><td>BWT</td><td>-0.09916</td></tr><tr><td>FWT</td><td>0.63782</td></tr><tr><td>Forgetting</td><td>0.19212</td></tr><tr><td>PBWT</td><td>0</td></tr><tr><td>Remembering</td><td>0.90084</td></tr><tr><td>Task Accuracy</td><td>0.501</td></tr><tr><td>epoch</td><td>24</td></tr><tr><td>regions</td><td>7.834</td></tr><tr><td>representation_std_epoch</td><td>0.1212</td></tr><tr><td>representation_std_step</td><td>0.12167</td></tr><tr><td>train_loss</td><td>6.28451</td></tr><tr><td>train_loss_epoch</td><td>-3.32866</td></tr><tr><td>train_loss_step</td><td>-3.35151</td></tr><tr><td>trainer/global_step</td><td>5874</td></tr><tr><td>val_loss</td><td>3.10864</td></tr></table><br/></div></div>"
      ],
      "text/plain": [
       "<IPython.core.display.HTML object>"
      ]
     },
     "metadata": {},
     "output_type": "display_data"
    },
    {
     "data": {
      "text/html": [
       " View run <strong style=\"color:#cdcd00\">BYOL_mnist_pretrain_scenario_5_task_5/5</strong> at: <a href='https://wandb.ai/mxdici-jozi/CSSL/runs/nsliab8r' target=\"_blank\">https://wandb.ai/mxdici-jozi/CSSL/runs/nsliab8r</a><br> View project at: <a href='https://wandb.ai/mxdici-jozi/CSSL' target=\"_blank\">https://wandb.ai/mxdici-jozi/CSSL</a><br>Synced 5 W&B file(s), 0 media file(s), 0 artifact file(s) and 0 other file(s)"
      ],
      "text/plain": [
       "<IPython.core.display.HTML object>"
      ]
     },
     "metadata": {},
     "output_type": "display_data"
    },
    {
     "data": {
      "text/html": [
       "Find logs at: <code>./wandb/run-20250526_071352-nsliab8r/logs</code>"
      ],
      "text/plain": [
       "<IPython.core.display.HTML object>"
      ]
     },
     "metadata": {},
     "output_type": "display_data"
    },
    {
     "name": "stderr",
     "output_type": "stream",
     "text": [
      "Training tasks: 5it [19:06, 229.27s/it]\n",
      "Scenerio: 100%|██████████| 1/1 [19:06<00:00, 1146.39s/it]\n"
     ]
    }
   ],
   "source": [
    "import argparse\n",
    "import yaml\n",
    "import torch\n",
    "import torch.nn as nn\n",
    "import wandb\n",
    "from tqdm import tqdm\n",
    "import pytorch_lightning as pl\n",
    "from pytorch_lightning import seed_everything\n",
    "from torchvision.models import resnet18\n",
    "from utils import DataManager, get_model, get_pretrain_transform, get_classifier, get_callbacks_logger, get_checkpoint, prepare_transforms\n",
    "from continuum.metrics.logger import Logger as LOGGER\n",
    "from lab.models.byol import  BYOLLab\n",
    "\n",
    "\n",
    "class Depth3Width32Net(nn.Module):\n",
    "    def __init__(self, input_dim=784, output_dim=10):\n",
    "        super().__init__()\n",
    "        self.fc1 = nn.Linear(input_dim, 32)  # Layer 1\n",
    "        self.fc2 = nn.Linear(32, 32)         # Layer 2\n",
    "        self.fc3 = nn.Linear(32, output_dim)  # Layer 3 (logits)\n",
    "        self.relu = nn.ReLU()\n",
    "\n",
    "    def forward(self, x):\n",
    "        x = x.view(x.shape[0], -1)  # Flatten input\n",
    "        out = self.fc1(x)\n",
    "        out = self.relu(out)\n",
    "\n",
    "        out = self.fc2(out)\n",
    "        out = self.relu(out)\n",
    "\n",
    "        out = self.fc3(out)\n",
    "        return out\n",
    "\n",
    "def main(args):\n",
    "    seeds = args.seeds\n",
    "    class_increment = int(args.num_classes / args.num_tasks)\n",
    "\n",
    "    for scenario_id in tqdm(seeds, desc=\"Scenerio\"):\n",
    "\n",
    "        seed_everything(scenario_id)\n",
    "        torch.set_float32_matmul_precision(args.set_float32_matmul_precision)\n",
    "\n",
    "        backbone = Depth3Width32Net(input_dim=args.input_dim, output_dim=args.feature_dim)\n",
    "        model = BYOLLab(backbone, args)\n",
    "\n",
    "        #pretrain_transform = get_pretrain_transform(args)\n",
    "        transform, val_transform = prepare_transforms(dataset=args.dataset)\n",
    "        def pretrain_transform(x):\n",
    "            view1 = transform(x)\n",
    "            view2 = transform(x)\n",
    "            val = val_transform(x)\n",
    "            return (view1, view2, val)\n",
    "        logger = LOGGER()\n",
    "\n",
    "        data_manager = DataManager(\n",
    "            args=args,\n",
    "        )\n",
    "\n",
    "        train_pretrain_scenario, train_classifier_scenario, test_classifier_scenario = data_manager.get_scenerio(scenario_id)\n",
    "\n",
    "        for task_id, train_pretrain_taskset in tqdm(enumerate(train_pretrain_scenario), desc=\"Training tasks\"):\n",
    "            print(\"TASK ID\", task_id)\n",
    "            train_classifier_taskset = train_classifier_scenario[:task_id+1]\n",
    "            test_classifier_taskset = test_classifier_scenario[:task_id+1]\n",
    "            train_pretrain_loader, train_classifier_loader, test_classifier_loader = data_manager.get_dataloader(\n",
    "                train_pretrain_taskset, \n",
    "                train_classifier_taskset, \n",
    "                test_classifier_taskset, \n",
    "                pretrain_transform,\n",
    "                args\n",
    "            )\n",
    "\n",
    "            _, pretrain_wandb_logger = get_callbacks_logger(args, training_type=\"pretrain\", task_id=task_id, scenario_id=scenario_id)\n",
    "\n",
    "            if task_id>0:\n",
    "                model = BYOLLab(model.backbone, args)\n",
    "\n",
    "            '''\n",
    "            Train the model\n",
    "            '''\n",
    "            trainer = pl.Trainer(\n",
    "                max_epochs=args.train_epochs, \n",
    "                accelerator=args.accelerator,\n",
    "                devices=args.gpu_devices,\n",
    "                accumulate_grad_batches=args.train_accumulate_grad_batches,\n",
    "                #callbacks=pretrain_callbacks,\n",
    "                logger=pretrain_wandb_logger,\n",
    "                enable_checkpointing=False,\n",
    "                strategy=args.strategy,\n",
    "                precision=args.precision,\n",
    "                sync_batchnorm=args.sync_batchnorm,\n",
    "            )\n",
    "            trainer.fit(model, train_pretrain_loader)\n",
    "\n",
    "            # load the best model\n",
    "            #model = get_checkpoint(trainer, backbone, args)\n",
    "\n",
    "            '''\n",
    "            Evaluate the model\n",
    "            '''\n",
    "            _, classifier_wandb_logger = get_callbacks_logger(args, training_type=\"classifier\", task_id=task_id, scenario_id=scenario_id)\n",
    "\n",
    "            classifier = get_classifier(\n",
    "                model.backbone, \n",
    "                num_classes=class_increment*(task_id+1),\n",
    "                logger=logger,\n",
    "                args=args\n",
    "            )\n",
    "\n",
    "            trainer = pl.Trainer(\n",
    "                max_epochs=args.test_epochs, \n",
    "                accelerator=args.accelerator,\n",
    "                devices=args.gpu_devices,\n",
    "                enable_checkpointing=False,\n",
    "                logger=classifier_wandb_logger,\n",
    "                strategy=args.strategy,\n",
    "                precision=args.precision,\n",
    "                sync_batchnorm=args.sync_batchnorm,\n",
    "            )\n",
    "            trainer.fit(classifier, train_classifier_loader, test_classifier_loader)\n",
    "\n",
    "            wandb.finish()\n",
    "\n",
    "\n",
    "\n",
    "\n",
    "from types import SimpleNamespace\n",
    "\n",
    "config_name = \"byol_mnist\"\n",
    "with open(f\"lab/config/{config_name}.yaml\", 'r') as file:\n",
    "    config_dict = yaml.safe_load(file)\n",
    "\n",
    "# Convert dict to an object\n",
    "config = SimpleNamespace(**config_dict)\n",
    "main(config)"
   ]
  }
 ],
 "metadata": {
  "kernelspec": {
   "display_name": ".venv",
   "language": "python",
   "name": "python3"
  },
  "language_info": {
   "codemirror_mode": {
    "name": "ipython",
    "version": 3
   },
   "file_extension": ".py",
   "mimetype": "text/x-python",
   "name": "python",
   "nbconvert_exporter": "python",
   "pygments_lexer": "ipython3",
   "version": "3.12.3"
  }
 },
 "nbformat": 4,
 "nbformat_minor": 2
}
